{
  "cells": [
    {
      "cell_type": "markdown",
      "metadata": {},
      "source": [
        "Verifica a versão do python"
      ]
    },
    {
      "cell_type": "markdown",
      "metadata": {},
      "source": [
        "Faz a instalação dos pacotes nas versões corretas"
      ]
    },
    {
      "cell_type": "code",
      "execution_count": null,
      "metadata": {
        "colab": {
          "base_uri": "https://localhost:8080/"
        },
        "collapsed": true,
        "id": "MOBx4sAYq1jH",
        "outputId": "6bd7a06f-780b-4fec-dd86-dc7692057864"
      },
      "outputs": [],
      "source": [
        "!pip install torch torchvision torchaudio --index-url https://download.pytorch.org/whl/cu118\n",
        "!pip install transformers[torch]==4.41.2\n",
        "!pip install datasets==2.20.0\n",
        "!pip install huggingface_hub==0.23.4\n",
        "!pip install ipywidgets==7.7.1\n",
        "!pip install accelerate==0.27.2\n",
        "!pip install nltk rouge-score\n",
        "!pip install sentencepiece\n",
        "!pip install evaluate\n",
        "!pip install bert_score\n",
        "!pip install openpyxl"
      ]
    },
    {
      "cell_type": "markdown",
      "metadata": {},
      "source": [
        "Verifica se a placa de vídeo está disponível"
      ]
    },
    {
      "cell_type": "markdown",
      "metadata": {},
      "source": [
        "Configura a forma de rodar - \n",
        "dev = usando o dataset de desenvolvimento com 7mil QA\n",
        "prod = usando o dataset completo com cerca de 56mil QA\n",
        "\n",
        "lang - escolher se utiliza o dataset de python ou java"
      ]
    },
    {
      "cell_type": "code",
      "execution_count": 1,
      "metadata": {},
      "outputs": [],
      "source": [
        "run_mode = \"dev\"\n",
        "#run_mode = \"prod\"\n",
        "lang_mode = \"Python\"\n",
        "#lang_mode = \"Java\"\n",
        "\n",
        "#modelo = \"flan-t5-base\"\n",
        "modelo = \"codet5-base\"\n",
        "#modelo = \"t5-base\""
      ]
    },
    {
      "cell_type": "code",
      "execution_count": 2,
      "metadata": {},
      "outputs": [],
      "source": [
        "import warnings\n",
        "# Suprime todos os warnings\n",
        "warnings.filterwarnings(\"ignore\")"
      ]
    },
    {
      "cell_type": "markdown",
      "metadata": {},
      "source": [
        "Cria as pastas para salvar o modelo treinado"
      ]
    },
    {
      "cell_type": "code",
      "execution_count": 3,
      "metadata": {},
      "outputs": [],
      "source": [
        "import os\n",
        "\n",
        "if(run_mode==\"prod\"):\n",
        "    os.chdir(\"2024_q-a_bases/\"+lang_mode)\n",
        "else:\n",
        "    os.chdir(\"2024_q-a_bases/dev/\"+lang_mode)\n"
      ]
    },
    {
      "cell_type": "code",
      "execution_count": 4,
      "metadata": {},
      "outputs": [],
      "source": [
        "from datasets import load_dataset\n",
        "import json\n",
        "\n",
        "# Carregue o dataset do arquivo JSON\n",
        "dev = os.path.join(\"dev\",\"dataset_dev.json\")\n",
        "test = os.path.join(\"test\",\"dataset_test.json\")\n",
        "dataset = load_dataset('json', data_files={'dev': dev, 'test': test})"
      ]
    },
    {
      "cell_type": "code",
      "execution_count": 5,
      "metadata": {},
      "outputs": [],
      "source": [
        "os.chdir(\"results\")\n",
        "path_models = os.listdir()\n",
        "os.chdir(path_models[-1])\n",
        "os.chdir(\"results_model\")"
      ]
    },
    {
      "cell_type": "code",
      "execution_count": 6,
      "metadata": {
        "id": "3ncrBWxMBuoL"
      },
      "outputs": [],
      "source": [
        "path_model = \"modelo_treinado\"\n",
        "path_tokenizer = \"tokenizer_treinamento\""
      ]
    },
    {
      "cell_type": "markdown",
      "metadata": {
        "id": "co-HFh2FRxb2"
      },
      "source": [
        "Avaliação no Conjunto de Teste"
      ]
    },
    {
      "cell_type": "markdown",
      "metadata": {
        "id": "078Ra6hPrwJt"
      },
      "source": [
        "Carregar e usar o modelo ajustado"
      ]
    },
    {
      "cell_type": "code",
      "execution_count": 7,
      "metadata": {
        "colab": {
          "base_uri": "https://localhost:8080/"
        },
        "id": "6H9l3V6KrASX",
        "outputId": "9ce29a25-9f5f-4c3e-e502-4e91c7cd5823"
      },
      "outputs": [],
      "source": [
        "import transformers\n",
        "from transformers import T5Tokenizer\n",
        "from transformers import RobertaTokenizer\n",
        "from transformers import T5ForConditionalGeneration\n",
        "\n",
        "# Carregue o modelo ajustado\n",
        "model = T5ForConditionalGeneration.from_pretrained(path_model)\n",
        "tokenizer = RobertaTokenizer.from_pretrained(path_tokenizer)\n",
        "\n",
        "def gerar_resposta(context, question):\n",
        "    input_text = f\"Context: {context} Question: {question}\"\n",
        "    inputs = tokenizer(input_text, return_tensors='pt', max_length=512, truncation=True)\n",
        "    outputs = model.generate(inputs['input_ids'], max_length=150, num_return_sequences=1,\n",
        "                             no_repeat_ngram_size=2, top_k=50, top_p=0.95, temperature=0.7)\n",
        "    resposta = tokenizer.decode(outputs[0], skip_special_tokens=True)\n",
        "    return resposta\n"
      ]
    },
    {
      "cell_type": "markdown",
      "metadata": {},
      "source": [
        "Gero e salvo respostas para cada uma das perguntas na base de testes"
      ]
    },
    {
      "cell_type": "code",
      "execution_count": 8,
      "metadata": {},
      "outputs": [
        {
          "name": "stderr",
          "output_type": "stream",
          "text": [
            "100%|██████████| 100/100 [00:22<00:00,  4.47it/s]"
          ]
        },
        {
          "name": "stdout",
          "output_type": "stream",
          "text": [
            "Geração concluída\n"
          ]
        },
        {
          "name": "stderr",
          "output_type": "stream",
          "text": [
            "\n"
          ]
        }
      ],
      "source": [
        "from tqdm import tqdm\n",
        "perguntas = []\n",
        "contextos = []\n",
        "respostas = []\n",
        "respostas_esperadas = []\n",
        "i =0\n",
        "with tqdm(total=len(dataset[\"test\"])) as progressbar:\n",
        "    for linha in dataset[\"test\"]:\n",
        "        respostas.append(gerar_resposta(linha[\"context\"],linha[\"question\"]))\n",
        "        respostas_esperadas.append(linha[\"answer\"])\n",
        "        perguntas.append(linha[\"question\"])\n",
        "        contextos.append(linha[\"context\"])\n",
        "        i+=1\n",
        "        progressbar.update(1)\n",
        "\n",
        "\n",
        "chatbot = []\n",
        "i =0\n",
        "print(\"Geração concluída\")\n",
        "\n"
      ]
    },
    {
      "cell_type": "code",
      "execution_count": 9,
      "metadata": {},
      "outputs": [],
      "source": [
        "for pergunta, contexto, resposta, respostas_esperada in zip(perguntas, contextos, respostas, respostas_esperadas):\n",
        "    chatbot.append({\n",
        "        \"context\": contexto,\n",
        "        \"question\": pergunta,\n",
        "        \"answer\": resposta,\n",
        "        \"exp_answer\": respostas_esperada\n",
        "    })\n",
        "    i+=1"
      ]
    },
    {
      "cell_type": "code",
      "execution_count": 10,
      "metadata": {},
      "outputs": [
        {
          "name": "stdout",
          "output_type": "stream",
          "text": [
            "Arquivo JSON test criado com sucesso.\n"
          ]
        }
      ],
      "source": [
        "# Escreva os dados no arquivo JSON\n",
        "with open('chatbot_test.json', 'w', encoding='utf-8') as f:\n",
        "    json.dump(chatbot, f, ensure_ascii=False, indent=4)\n",
        "\n",
        "print(\"Arquivo JSON test criado com sucesso.\")"
      ]
    },
    {
      "cell_type": "markdown",
      "metadata": {},
      "source": [
        "Avaliando"
      ]
    },
    {
      "cell_type": "code",
      "execution_count": 11,
      "metadata": {},
      "outputs": [],
      "source": [
        "import numpy as np\n",
        "from evaluate import load\n",
        "from bert_score import BERTScorer\n",
        "from nltk.translate.bleu_score import corpus_bleu"
      ]
    },
    {
      "cell_type": "code",
      "execution_count": 12,
      "metadata": {},
      "outputs": [],
      "source": [
        "\n",
        "def compute_bleu(references, hypothesis):\n",
        "    # https://stackoverflow.com/questions/73938010/which-bleu-smoothing-function-is-commonly-used-for-image-captioning-evaluation\n",
        "    references = [[reference.split()] for reference in references]\n",
        "    hypothesis = [hypothesis.split() for hypothesis in hypothesis]\n",
        "    bleu_scores = corpus_bleu(references, hypothesis)\n",
        "    return np.mean(bleu_scores)\n",
        "\n",
        "\n",
        "def compute_meteor(reference, hypothesis):\n",
        "    metric = load('meteor')\n",
        "    results = metric.compute(predictions=hypothesis, references=reference)\n",
        "    return results['meteor']\n",
        "\n",
        "\n",
        "def compute_rouge(reference, hypothesis):\n",
        "    metric = load('rouge')\n",
        "    results = metric.compute(predictions=hypothesis, references=reference, use_stemmer=False)\n",
        "    return results\n",
        "\n",
        "\n",
        "def compute_bertscore(reference, hypothesis):\n",
        "    scorer = BERTScorer(lang='pt', rescale_with_baseline=True)\n",
        "    precision, recall, f1_score = scorer.score(hypothesis, reference, verbose=True)\n",
        "    return {\n",
        "        'precision': precision.mean().item(),\n",
        "        'recall': recall.mean().item(),\n",
        "        'f1_score': f1_score.mean().item()\n",
        "    }\n",
        "\n",
        "\n",
        "def compute_eval_metrics(all_references: list, all_predictions: list) -> dict:\n",
        "    bleu_score = compute_bleu(all_references, all_predictions)\n",
        "    meteor_score = compute_meteor(all_references, all_predictions)\n",
        "    rouge_scores = compute_rouge(all_references, all_predictions)\n",
        "    bert_scores = compute_bertscore(all_references, all_predictions)\n",
        "    return {\n",
        "        'rouge1': rouge_scores['rouge1'],\n",
        "        'rouge2': rouge_scores['rouge2'],\n",
        "        'rougeL': rouge_scores['rougeL'],\n",
        "        'bert_score_f1': bert_scores['f1_score'],\n",
        "        'bleu': bleu_score,\n",
        "        'meteor': meteor_score\n",
        "    }"
      ]
    },
    {
      "cell_type": "code",
      "execution_count": 13,
      "metadata": {},
      "outputs": [
        {
          "name": "stderr",
          "output_type": "stream",
          "text": [
            "[nltk_data] Downloading package wordnet to\n",
            "[nltk_data]     C:\\Users\\lopes\\AppData\\Roaming\\nltk_data...\n",
            "[nltk_data]   Package wordnet is already up-to-date!\n",
            "[nltk_data] Downloading package punkt to\n",
            "[nltk_data]     C:\\Users\\lopes\\AppData\\Roaming\\nltk_data...\n",
            "[nltk_data]   Package punkt is already up-to-date!\n",
            "[nltk_data] Downloading package omw-1.4 to\n",
            "[nltk_data]     C:\\Users\\lopes\\AppData\\Roaming\\nltk_data...\n",
            "[nltk_data]   Package omw-1.4 is already up-to-date!\n"
          ]
        },
        {
          "name": "stdout",
          "output_type": "stream",
          "text": [
            "calculating scores...\n",
            "computing bert embedding.\n"
          ]
        },
        {
          "data": {
            "application/vnd.jupyter.widget-view+json": {
              "model_id": "ceec3d2859c34178a14637836af6a9a0",
              "version_major": 2,
              "version_minor": 0
            },
            "text/plain": [
              "  0%|          | 0/2 [00:00<?, ?it/s]"
            ]
          },
          "metadata": {},
          "output_type": "display_data"
        },
        {
          "name": "stdout",
          "output_type": "stream",
          "text": [
            "computing greedy matching.\n"
          ]
        },
        {
          "data": {
            "application/vnd.jupyter.widget-view+json": {
              "model_id": "692d60154a904d73b42282c5aabfd4e0",
              "version_major": 2,
              "version_minor": 0
            },
            "text/plain": [
              "  0%|          | 0/2 [00:00<?, ?it/s]"
            ]
          },
          "metadata": {},
          "output_type": "display_data"
        },
        {
          "name": "stdout",
          "output_type": "stream",
          "text": [
            "done in 0.45 seconds, 223.13 sentences/sec\n"
          ]
        }
      ],
      "source": [
        "resultado = compute_eval_metrics(respostas_esperadas,respostas)"
      ]
    },
    {
      "cell_type": "code",
      "execution_count": 14,
      "metadata": {},
      "outputs": [
        {
          "name": "stdout",
          "output_type": "stream",
          "text": [
            "0.5686702235672823\n"
          ]
        }
      ],
      "source": [
        "print(resultado[\"rouge1\"])"
      ]
    },
    {
      "cell_type": "code",
      "execution_count": 15,
      "metadata": {},
      "outputs": [
        {
          "name": "stdout",
          "output_type": "stream",
          "text": [
            "rouge1: 0.5686702235672823\n",
            "rouge2: 0.03472524787040916\n",
            "rougeL: 0.5600739521915992\n",
            "bert_score_f1: 0.6182286739349365\n",
            "bleu: 2.21076469358935e-155\n",
            "meteor: 0.2873008942052908\n"
          ]
        }
      ],
      "source": [
        "for key, value in resultado.items():\n",
        "    print(f\"{key}: {value}\")"
      ]
    },
    {
      "cell_type": "code",
      "execution_count": 16,
      "metadata": {},
      "outputs": [
        {
          "name": "stdout",
          "output_type": "stream",
          "text": [
            "Arquivo JSON test criado com sucesso.\n"
          ]
        }
      ],
      "source": [
        "# Escreva os dados no arquivo JSON\n",
        "with open('chatbot_test_resultado_h.json', 'w', encoding='utf-8') as f:\n",
        "    json.dump(resultado, f, ensure_ascii=False, indent=4)\n",
        "\n",
        "print(\"Arquivo JSON test criado com sucesso.\")\n",
        "os.chdir(\"..\")\n",
        "os.chdir(\"..\")\n",
        "os.chdir(\"..\")\n",
        "os.chdir(\"..\")\n",
        "os.chdir(\"..\")"
      ]
    },
    {
      "cell_type": "markdown",
      "metadata": {},
      "source": []
    },
    {
      "cell_type": "markdown",
      "metadata": {},
      "source": [
        "Tabulação de todos os resultados ja colhidos"
      ]
    },
    {
      "cell_type": "code",
      "execution_count": 17,
      "metadata": {},
      "outputs": [],
      "source": [
        "def read_data(text_file_path):\n",
        "  # Carregar o arquivo de texto\n",
        "  with open(text_file_path, 'r') as file:\n",
        "    data = file.read()\n",
        "  return data.split('\\n')"
      ]
    },
    {
      "cell_type": "code",
      "execution_count": 18,
      "metadata": {},
      "outputs": [],
      "source": [
        "def carregar_resultado_anterior(path):\n",
        "    os.chdir(path)\n",
        "    os.chdir(\"results_model\")\n",
        "    \n",
        "    caminho_arquivo = \"chatbot_test_resultado_h.json\"\n",
        "\n",
        "    # Abrir e carregar o arquivo JSON\n",
        "    with open(caminho_arquivo, 'r') as arquivo:\n",
        "        dados_resultados = json.load(arquivo)\n",
        "    dados_basicos_resultado = read_data(\"info.txt\")\n",
        "    os.chdir(\"..\")\n",
        "    os.chdir(\"..\")\n",
        "    return [\n",
        "            dados_basicos_resultado[0],dados_basicos_resultado[1],\n",
        "            dados_basicos_resultado[2],dados_basicos_resultado[3],\n",
        "            dados_basicos_resultado[4],\n",
        "            dados_resultados['rouge1'],dados_resultados[\"rouge2\"],\n",
        "            dados_resultados[\"rougeL\"],dados_resultados[\"bert_score_f1\"],\n",
        "            dados_resultados[\"bleu\"],dados_resultados[\"meteor\"]]"
      ]
    },
    {
      "cell_type": "code",
      "execution_count": 19,
      "metadata": {},
      "outputs": [],
      "source": [
        "from datasets import load_dataset\n",
        "\n",
        "def carregar_resultados(path):\n",
        "    os.chdir(path)\n",
        "    resultados = []\n",
        "\n",
        "    os.chdir(\"results\")\n",
        "    resultados_paths = os.listdir()\n",
        "    resultados = []\n",
        "    for linha in resultados_paths:\n",
        "        resultados.append(carregar_resultado_anterior(linha))\n",
        "    os.chdir(\"..\")\n",
        "    os.chdir(\"..\")\n",
        "    return resultados\n",
        "    \n"
      ]
    },
    {
      "cell_type": "code",
      "execution_count": 20,
      "metadata": {},
      "outputs": [],
      "source": [
        "resultados_Python = carregar_resultados(\"Python\")"
      ]
    },
    {
      "cell_type": "code",
      "execution_count": 21,
      "metadata": {},
      "outputs": [],
      "source": [
        "resultados_Java = carregar_resultados(\"Python\")"
      ]
    },
    {
      "cell_type": "code",
      "execution_count": 22,
      "metadata": {},
      "outputs": [],
      "source": [
        "os.chdir(\"dev\")\n",
        "resultados_dev_python = carregar_resultados(\"Python\")\n",
        "resultados_dev_java = carregar_resultados(\"Java\")\n",
        "os.chdir(\"..\")\n"
      ]
    },
    {
      "cell_type": "code",
      "execution_count": 23,
      "metadata": {},
      "outputs": [],
      "source": [
        "import pandas as pd\n",
        "\n",
        "def resultado_to_df(base):\n",
        "    linguagem = []\n",
        "    modo = []\n",
        "    modelo = []\n",
        "    tam_base = []\n",
        "    rouge1 = []\n",
        "    rouge2 = []\n",
        "    rougeL= []\n",
        "    bert = []\n",
        "    bleu = []\n",
        "    meteor = []\n",
        "    for linha in base:\n",
        "        linguagem.append(linha[0])\n",
        "        modo.append(linha[1])\n",
        "        modelo.append(linha[2])\n",
        "        tam_base.append(linha[3])\n",
        "        rouge1.append(linha[4])\n",
        "        rouge2.append(linha[5])\n",
        "        rougeL.append(linha[6])\n",
        "        bert.append(linha[7])\n",
        "        bleu.append(linha[8])\n",
        "        meteor.append(linha[9])\n",
        "\n",
        "        \n",
        "\n",
        "    data = {\n",
        "        'Language': linguagem,\n",
        "        'Mode': modo,\n",
        "        'Modelo': modelo,\n",
        "        'tam_base': tam_base,\n",
        "        'rouge1' : rouge1,\n",
        "        'rouge2' : rouge2,\n",
        "        'rougeL' : rougeL,\n",
        "        'bert_score_f1': bert,\n",
        "        'bleu': bleu,\n",
        "        'meteor': meteor\n",
        "    }\n",
        "    return pd.DataFrame(data)"
      ]
    },
    {
      "cell_type": "code",
      "execution_count": 24,
      "metadata": {},
      "outputs": [],
      "source": [
        "if(len(resultados_dev_python)>0): df = resultado_to_df(resultados_dev_python)\n",
        "if(len(resultados_dev_java)>0): df2 = resultado_to_df(resultados_dev_java)\n",
        "if(len(resultados_Python)>0): df3 = resultado_to_df(resultados_Python)\n",
        "if(len(resultados_Java)>0): df4 = resultado_to_df(resultados_Java)"
      ]
    },
    {
      "cell_type": "code",
      "execution_count": 25,
      "metadata": {},
      "outputs": [
        {
          "name": "stdout",
          "output_type": "stream",
          "text": [
            "Dados exportados para compilacao_resultados.xlsx com sucesso!\n"
          ]
        }
      ],
      "source": [
        "# Caminho para o arquivo Excel\n",
        "caminho_arquivo = 'compilacao_resultados.xlsx'\n",
        "\n",
        "# Exportar os DataFrames para diferentes abas em um único arquivo Excel\n",
        "with pd.ExcelWriter(caminho_arquivo, engine='openpyxl') as writer:\n",
        "    df.to_excel(writer, sheet_name='dev_python', index=False)\n",
        "    if(len(resultados_dev_java)>0): df2.to_excel(writer, sheet_name='dev_java', index=False)\n",
        "    if(len(resultados_Python)>0): df3.to_excel(writer, sheet_name='Python', index=False)\n",
        "    if(len(resultados_Java)>0): df4.to_excel(writer, sheet_name='Java', index=False)\n",
        "\n",
        "print(f'Dados exportados para {caminho_arquivo} com sucesso!')\n"
      ]
    },
    {
      "cell_type": "code",
      "execution_count": 26,
      "metadata": {},
      "outputs": [],
      "source": [
        "os.chdir(\"..\")"
      ]
    }
  ],
  "metadata": {
    "accelerator": "GPU",
    "colab": {
      "gpuType": "T4",
      "provenance": []
    },
    "kernelspec": {
      "display_name": "Python 3",
      "name": "python3"
    },
    "language_info": {
      "codemirror_mode": {
        "name": "ipython",
        "version": 3
      },
      "file_extension": ".py",
      "mimetype": "text/x-python",
      "name": "python",
      "nbconvert_exporter": "python",
      "pygments_lexer": "ipython3",
      "version": "3.10.14"
    },
    "widgets": {
      "application/vnd.jupyter.widget-state+json": {
        "06a11059cfc84644a156c32eaaae69f7": {
          "model_module": "@jupyter-widgets/controls",
          "model_module_version": "1.5.0",
          "model_name": "DescriptionStyleModel",
          "state": {
            "_model_module": "@jupyter-widgets/controls",
            "_model_module_version": "1.5.0",
            "_model_name": "DescriptionStyleModel",
            "_view_count": null,
            "_view_module": "@jupyter-widgets/base",
            "_view_module_version": "1.2.0",
            "_view_name": "StyleView",
            "description_width": ""
          }
        },
        "0909a50dfb3c485582ed51da1531288f": {
          "model_module": "@jupyter-widgets/controls",
          "model_module_version": "1.5.0",
          "model_name": "DescriptionStyleModel",
          "state": {
            "_model_module": "@jupyter-widgets/controls",
            "_model_module_version": "1.5.0",
            "_model_name": "DescriptionStyleModel",
            "_view_count": null,
            "_view_module": "@jupyter-widgets/base",
            "_view_module_version": "1.2.0",
            "_view_name": "StyleView",
            "description_width": ""
          }
        },
        "187acd6b10d24524818b1747385d9679": {
          "model_module": "@jupyter-widgets/base",
          "model_module_version": "1.2.0",
          "model_name": "LayoutModel",
          "state": {
            "_model_module": "@jupyter-widgets/base",
            "_model_module_version": "1.2.0",
            "_model_name": "LayoutModel",
            "_view_count": null,
            "_view_module": "@jupyter-widgets/base",
            "_view_module_version": "1.2.0",
            "_view_name": "LayoutView",
            "align_content": null,
            "align_items": null,
            "align_self": null,
            "border": null,
            "bottom": null,
            "display": null,
            "flex": null,
            "flex_flow": null,
            "grid_area": null,
            "grid_auto_columns": null,
            "grid_auto_flow": null,
            "grid_auto_rows": null,
            "grid_column": null,
            "grid_gap": null,
            "grid_row": null,
            "grid_template_areas": null,
            "grid_template_columns": null,
            "grid_template_rows": null,
            "height": null,
            "justify_content": null,
            "justify_items": null,
            "left": null,
            "margin": null,
            "max_height": null,
            "max_width": null,
            "min_height": null,
            "min_width": null,
            "object_fit": null,
            "object_position": null,
            "order": null,
            "overflow": null,
            "overflow_x": null,
            "overflow_y": null,
            "padding": null,
            "right": null,
            "top": null,
            "visibility": null,
            "width": null
          }
        },
        "1a51598bd7684f00b5d6bb09be806bc2": {
          "model_module": "@jupyter-widgets/controls",
          "model_module_version": "1.5.0",
          "model_name": "DescriptionStyleModel",
          "state": {
            "_model_module": "@jupyter-widgets/controls",
            "_model_module_version": "1.5.0",
            "_model_name": "DescriptionStyleModel",
            "_view_count": null,
            "_view_module": "@jupyter-widgets/base",
            "_view_module_version": "1.2.0",
            "_view_name": "StyleView",
            "description_width": ""
          }
        },
        "1eb90ce1a92845b797d0b9b5aa2a8ae7": {
          "model_module": "@jupyter-widgets/controls",
          "model_module_version": "1.5.0",
          "model_name": "PasswordModel",
          "state": {
            "_dom_classes": [],
            "_model_module": "@jupyter-widgets/controls",
            "_model_module_version": "1.5.0",
            "_model_name": "PasswordModel",
            "_view_count": null,
            "_view_module": "@jupyter-widgets/controls",
            "_view_module_version": "1.5.0",
            "_view_name": "PasswordView",
            "continuous_update": true,
            "description": "Token:",
            "description_tooltip": null,
            "disabled": false,
            "layout": "IPY_MODEL_67ce0d1ac38e4e10b4201a367cf6229f",
            "placeholder": "​",
            "style": "IPY_MODEL_a904d01ac0874c34b1dbc6fa65b913a5",
            "value": ""
          }
        },
        "1ffb8c9cc2ad4a799f7ba9a663918964": {
          "model_module": "@jupyter-widgets/base",
          "model_module_version": "1.2.0",
          "model_name": "LayoutModel",
          "state": {
            "_model_module": "@jupyter-widgets/base",
            "_model_module_version": "1.2.0",
            "_model_name": "LayoutModel",
            "_view_count": null,
            "_view_module": "@jupyter-widgets/base",
            "_view_module_version": "1.2.0",
            "_view_name": "LayoutView",
            "align_content": null,
            "align_items": null,
            "align_self": null,
            "border": null,
            "bottom": null,
            "display": null,
            "flex": null,
            "flex_flow": null,
            "grid_area": null,
            "grid_auto_columns": null,
            "grid_auto_flow": null,
            "grid_auto_rows": null,
            "grid_column": null,
            "grid_gap": null,
            "grid_row": null,
            "grid_template_areas": null,
            "grid_template_columns": null,
            "grid_template_rows": null,
            "height": null,
            "justify_content": null,
            "justify_items": null,
            "left": null,
            "margin": null,
            "max_height": null,
            "max_width": null,
            "min_height": null,
            "min_width": null,
            "object_fit": null,
            "object_position": null,
            "order": null,
            "overflow": null,
            "overflow_x": null,
            "overflow_y": null,
            "padding": null,
            "right": null,
            "top": null,
            "visibility": null,
            "width": null
          }
        },
        "2251f087b35046ab982ce7aa4b948ac5": {
          "model_module": "@jupyter-widgets/base",
          "model_module_version": "1.2.0",
          "model_name": "LayoutModel",
          "state": {
            "_model_module": "@jupyter-widgets/base",
            "_model_module_version": "1.2.0",
            "_model_name": "LayoutModel",
            "_view_count": null,
            "_view_module": "@jupyter-widgets/base",
            "_view_module_version": "1.2.0",
            "_view_name": "LayoutView",
            "align_content": null,
            "align_items": null,
            "align_self": null,
            "border": null,
            "bottom": null,
            "display": null,
            "flex": null,
            "flex_flow": null,
            "grid_area": null,
            "grid_auto_columns": null,
            "grid_auto_flow": null,
            "grid_auto_rows": null,
            "grid_column": null,
            "grid_gap": null,
            "grid_row": null,
            "grid_template_areas": null,
            "grid_template_columns": null,
            "grid_template_rows": null,
            "height": null,
            "justify_content": null,
            "justify_items": null,
            "left": null,
            "margin": null,
            "max_height": null,
            "max_width": null,
            "min_height": null,
            "min_width": null,
            "object_fit": null,
            "object_position": null,
            "order": null,
            "overflow": null,
            "overflow_x": null,
            "overflow_y": null,
            "padding": null,
            "right": null,
            "top": null,
            "visibility": null,
            "width": null
          }
        },
        "29a90c7f61be43f4986b856dc852267c": {
          "model_module": "@jupyter-widgets/controls",
          "model_module_version": "1.5.0",
          "model_name": "VBoxModel",
          "state": {
            "_dom_classes": [],
            "_model_module": "@jupyter-widgets/controls",
            "_model_module_version": "1.5.0",
            "_model_name": "VBoxModel",
            "_view_count": null,
            "_view_module": "@jupyter-widgets/controls",
            "_view_module_version": "1.5.0",
            "_view_name": "VBoxView",
            "box_style": "",
            "children": [
              "IPY_MODEL_2a826e18db1443d78b3731f499792776",
              "IPY_MODEL_c90cebb49aeb4a32a9f5cfd62fb76214",
              "IPY_MODEL_ba60bbd5303d45e29475b145e44bfeb9"
            ],
            "layout": "IPY_MODEL_c67e5ad27ec14c11b8d46647efa1c367"
          }
        },
        "2a826e18db1443d78b3731f499792776": {
          "model_module": "@jupyter-widgets/controls",
          "model_module_version": "1.5.0",
          "model_name": "LabelModel",
          "state": {
            "_dom_classes": [],
            "_model_module": "@jupyter-widgets/controls",
            "_model_module_version": "1.5.0",
            "_model_name": "LabelModel",
            "_view_count": null,
            "_view_module": "@jupyter-widgets/controls",
            "_view_module_version": "1.5.0",
            "_view_name": "LabelView",
            "description": "",
            "description_tooltip": null,
            "layout": "IPY_MODEL_8588889c7960494da1a86b6881e6b667",
            "placeholder": "​",
            "style": "IPY_MODEL_1a51598bd7684f00b5d6bb09be806bc2",
            "value": "Token is valid (permission: write)."
          }
        },
        "2b31277fc8094fb1bfefa976b9c4117f": {
          "model_module": "@jupyter-widgets/controls",
          "model_module_version": "1.5.0",
          "model_name": "DescriptionStyleModel",
          "state": {
            "_model_module": "@jupyter-widgets/controls",
            "_model_module_version": "1.5.0",
            "_model_name": "DescriptionStyleModel",
            "_view_count": null,
            "_view_module": "@jupyter-widgets/base",
            "_view_module_version": "1.2.0",
            "_view_name": "StyleView",
            "description_width": ""
          }
        },
        "3718da8cbf004380ac801b5ee6356ee4": {
          "model_module": "@jupyter-widgets/base",
          "model_module_version": "1.2.0",
          "model_name": "LayoutModel",
          "state": {
            "_model_module": "@jupyter-widgets/base",
            "_model_module_version": "1.2.0",
            "_model_name": "LayoutModel",
            "_view_count": null,
            "_view_module": "@jupyter-widgets/base",
            "_view_module_version": "1.2.0",
            "_view_name": "LayoutView",
            "align_content": null,
            "align_items": null,
            "align_self": null,
            "border": null,
            "bottom": null,
            "display": null,
            "flex": null,
            "flex_flow": null,
            "grid_area": null,
            "grid_auto_columns": null,
            "grid_auto_flow": null,
            "grid_auto_rows": null,
            "grid_column": null,
            "grid_gap": null,
            "grid_row": null,
            "grid_template_areas": null,
            "grid_template_columns": null,
            "grid_template_rows": null,
            "height": null,
            "justify_content": null,
            "justify_items": null,
            "left": null,
            "margin": null,
            "max_height": null,
            "max_width": null,
            "min_height": null,
            "min_width": null,
            "object_fit": null,
            "object_position": null,
            "order": null,
            "overflow": null,
            "overflow_x": null,
            "overflow_y": null,
            "padding": null,
            "right": null,
            "top": null,
            "visibility": null,
            "width": null
          }
        },
        "46c9a958d5294faeb8fe0f8a8d4d053c": {
          "model_module": "@jupyter-widgets/base",
          "model_module_version": "1.2.0",
          "model_name": "LayoutModel",
          "state": {
            "_model_module": "@jupyter-widgets/base",
            "_model_module_version": "1.2.0",
            "_model_name": "LayoutModel",
            "_view_count": null,
            "_view_module": "@jupyter-widgets/base",
            "_view_module_version": "1.2.0",
            "_view_name": "LayoutView",
            "align_content": null,
            "align_items": null,
            "align_self": null,
            "border": null,
            "bottom": null,
            "display": null,
            "flex": null,
            "flex_flow": null,
            "grid_area": null,
            "grid_auto_columns": null,
            "grid_auto_flow": null,
            "grid_auto_rows": null,
            "grid_column": null,
            "grid_gap": null,
            "grid_row": null,
            "grid_template_areas": null,
            "grid_template_columns": null,
            "grid_template_rows": null,
            "height": null,
            "justify_content": null,
            "justify_items": null,
            "left": null,
            "margin": null,
            "max_height": null,
            "max_width": null,
            "min_height": null,
            "min_width": null,
            "object_fit": null,
            "object_position": null,
            "order": null,
            "overflow": null,
            "overflow_x": null,
            "overflow_y": null,
            "padding": null,
            "right": null,
            "top": null,
            "visibility": null,
            "width": null
          }
        },
        "5b5f7e29ef7249f68967ed0d3b015377": {
          "model_module": "@jupyter-widgets/base",
          "model_module_version": "1.2.0",
          "model_name": "LayoutModel",
          "state": {
            "_model_module": "@jupyter-widgets/base",
            "_model_module_version": "1.2.0",
            "_model_name": "LayoutModel",
            "_view_count": null,
            "_view_module": "@jupyter-widgets/base",
            "_view_module_version": "1.2.0",
            "_view_name": "LayoutView",
            "align_content": null,
            "align_items": null,
            "align_self": null,
            "border": null,
            "bottom": null,
            "display": null,
            "flex": null,
            "flex_flow": null,
            "grid_area": null,
            "grid_auto_columns": null,
            "grid_auto_flow": null,
            "grid_auto_rows": null,
            "grid_column": null,
            "grid_gap": null,
            "grid_row": null,
            "grid_template_areas": null,
            "grid_template_columns": null,
            "grid_template_rows": null,
            "height": null,
            "justify_content": null,
            "justify_items": null,
            "left": null,
            "margin": null,
            "max_height": null,
            "max_width": null,
            "min_height": null,
            "min_width": null,
            "object_fit": null,
            "object_position": null,
            "order": null,
            "overflow": null,
            "overflow_x": null,
            "overflow_y": null,
            "padding": null,
            "right": null,
            "top": null,
            "visibility": null,
            "width": null
          }
        },
        "5d60a627b80c4402acb2b849c25a3687": {
          "model_module": "@jupyter-widgets/controls",
          "model_module_version": "1.5.0",
          "model_name": "DescriptionStyleModel",
          "state": {
            "_model_module": "@jupyter-widgets/controls",
            "_model_module_version": "1.5.0",
            "_model_name": "DescriptionStyleModel",
            "_view_count": null,
            "_view_module": "@jupyter-widgets/base",
            "_view_module_version": "1.2.0",
            "_view_name": "StyleView",
            "description_width": ""
          }
        },
        "67ce0d1ac38e4e10b4201a367cf6229f": {
          "model_module": "@jupyter-widgets/base",
          "model_module_version": "1.2.0",
          "model_name": "LayoutModel",
          "state": {
            "_model_module": "@jupyter-widgets/base",
            "_model_module_version": "1.2.0",
            "_model_name": "LayoutModel",
            "_view_count": null,
            "_view_module": "@jupyter-widgets/base",
            "_view_module_version": "1.2.0",
            "_view_name": "LayoutView",
            "align_content": null,
            "align_items": null,
            "align_self": null,
            "border": null,
            "bottom": null,
            "display": null,
            "flex": null,
            "flex_flow": null,
            "grid_area": null,
            "grid_auto_columns": null,
            "grid_auto_flow": null,
            "grid_auto_rows": null,
            "grid_column": null,
            "grid_gap": null,
            "grid_row": null,
            "grid_template_areas": null,
            "grid_template_columns": null,
            "grid_template_rows": null,
            "height": null,
            "justify_content": null,
            "justify_items": null,
            "left": null,
            "margin": null,
            "max_height": null,
            "max_width": null,
            "min_height": null,
            "min_width": null,
            "object_fit": null,
            "object_position": null,
            "order": null,
            "overflow": null,
            "overflow_x": null,
            "overflow_y": null,
            "padding": null,
            "right": null,
            "top": null,
            "visibility": null,
            "width": null
          }
        },
        "7f6e7844c4eb446cbe8ffcb258c77e6c": {
          "model_module": "@jupyter-widgets/controls",
          "model_module_version": "1.5.0",
          "model_name": "ButtonStyleModel",
          "state": {
            "_model_module": "@jupyter-widgets/controls",
            "_model_module_version": "1.5.0",
            "_model_name": "ButtonStyleModel",
            "_view_count": null,
            "_view_module": "@jupyter-widgets/base",
            "_view_module_version": "1.2.0",
            "_view_name": "StyleView",
            "button_color": null,
            "font_weight": ""
          }
        },
        "7fc96bb7955142629fd2d7ecd8feb96d": {
          "model_module": "@jupyter-widgets/controls",
          "model_module_version": "1.5.0",
          "model_name": "HTMLModel",
          "state": {
            "_dom_classes": [],
            "_model_module": "@jupyter-widgets/controls",
            "_model_module_version": "1.5.0",
            "_model_name": "HTMLModel",
            "_view_count": null,
            "_view_module": "@jupyter-widgets/controls",
            "_view_module_version": "1.5.0",
            "_view_name": "HTMLView",
            "description": "",
            "description_tooltip": null,
            "layout": "IPY_MODEL_46c9a958d5294faeb8fe0f8a8d4d053c",
            "placeholder": "​",
            "style": "IPY_MODEL_fdf8cf50c6f84d398d84724a7d9e73cb",
            "value": "<center> <img\nsrc=https://huggingface.co/front/assets/huggingface_logo-noborder.svg\nalt='Hugging Face'> <br> Copy a token from <a\nhref=\"https://huggingface.co/settings/tokens\" target=\"_blank\">your Hugging Face\ntokens page</a> and paste it below. <br> Immediately click login after copying\nyour token or it might be stored in plain text in this notebook file. </center>"
          }
        },
        "80664579a73c450998aa05cded89aae4": {
          "model_module": "@jupyter-widgets/controls",
          "model_module_version": "1.5.0",
          "model_name": "HTMLModel",
          "state": {
            "_dom_classes": [],
            "_model_module": "@jupyter-widgets/controls",
            "_model_module_version": "1.5.0",
            "_model_name": "HTMLModel",
            "_view_count": null,
            "_view_module": "@jupyter-widgets/controls",
            "_view_module_version": "1.5.0",
            "_view_name": "HTMLView",
            "description": "",
            "description_tooltip": null,
            "layout": "IPY_MODEL_1ffb8c9cc2ad4a799f7ba9a663918964",
            "placeholder": "​",
            "style": "IPY_MODEL_0909a50dfb3c485582ed51da1531288f",
            "value": "\n<b>Pro Tip:</b> If you don't already have one, you can create a dedicated\n'notebooks' token with 'write' access, that you can then easily reuse for all\nnotebooks. </center>"
          }
        },
        "8588889c7960494da1a86b6881e6b667": {
          "model_module": "@jupyter-widgets/base",
          "model_module_version": "1.2.0",
          "model_name": "LayoutModel",
          "state": {
            "_model_module": "@jupyter-widgets/base",
            "_model_module_version": "1.2.0",
            "_model_name": "LayoutModel",
            "_view_count": null,
            "_view_module": "@jupyter-widgets/base",
            "_view_module_version": "1.2.0",
            "_view_name": "LayoutView",
            "align_content": null,
            "align_items": null,
            "align_self": null,
            "border": null,
            "bottom": null,
            "display": null,
            "flex": null,
            "flex_flow": null,
            "grid_area": null,
            "grid_auto_columns": null,
            "grid_auto_flow": null,
            "grid_auto_rows": null,
            "grid_column": null,
            "grid_gap": null,
            "grid_row": null,
            "grid_template_areas": null,
            "grid_template_columns": null,
            "grid_template_rows": null,
            "height": null,
            "justify_content": null,
            "justify_items": null,
            "left": null,
            "margin": null,
            "max_height": null,
            "max_width": null,
            "min_height": null,
            "min_width": null,
            "object_fit": null,
            "object_position": null,
            "order": null,
            "overflow": null,
            "overflow_x": null,
            "overflow_y": null,
            "padding": null,
            "right": null,
            "top": null,
            "visibility": null,
            "width": null
          }
        },
        "9184d85e1cdf4dccb9ff95cf6fa43811": {
          "model_module": "@jupyter-widgets/controls",
          "model_module_version": "1.5.0",
          "model_name": "LabelModel",
          "state": {
            "_dom_classes": [],
            "_model_module": "@jupyter-widgets/controls",
            "_model_module_version": "1.5.0",
            "_model_name": "LabelModel",
            "_view_count": null,
            "_view_module": "@jupyter-widgets/controls",
            "_view_module_version": "1.5.0",
            "_view_name": "LabelView",
            "description": "",
            "description_tooltip": null,
            "layout": "IPY_MODEL_3718da8cbf004380ac801b5ee6356ee4",
            "placeholder": "​",
            "style": "IPY_MODEL_5d60a627b80c4402acb2b849c25a3687",
            "value": "Connecting..."
          }
        },
        "a904d01ac0874c34b1dbc6fa65b913a5": {
          "model_module": "@jupyter-widgets/controls",
          "model_module_version": "1.5.0",
          "model_name": "DescriptionStyleModel",
          "state": {
            "_model_module": "@jupyter-widgets/controls",
            "_model_module_version": "1.5.0",
            "_model_name": "DescriptionStyleModel",
            "_view_count": null,
            "_view_module": "@jupyter-widgets/base",
            "_view_module_version": "1.2.0",
            "_view_name": "StyleView",
            "description_width": ""
          }
        },
        "ba60bbd5303d45e29475b145e44bfeb9": {
          "model_module": "@jupyter-widgets/controls",
          "model_module_version": "1.5.0",
          "model_name": "LabelModel",
          "state": {
            "_dom_classes": [],
            "_model_module": "@jupyter-widgets/controls",
            "_model_module_version": "1.5.0",
            "_model_name": "LabelModel",
            "_view_count": null,
            "_view_module": "@jupyter-widgets/controls",
            "_view_module_version": "1.5.0",
            "_view_name": "LabelView",
            "description": "",
            "description_tooltip": null,
            "layout": "IPY_MODEL_e90633d10f3744d696b992980e91aebb",
            "placeholder": "​",
            "style": "IPY_MODEL_c075f8ae8fd24b64b86e3e4b5544fdcd",
            "value": "Login successful"
          }
        },
        "c075f8ae8fd24b64b86e3e4b5544fdcd": {
          "model_module": "@jupyter-widgets/controls",
          "model_module_version": "1.5.0",
          "model_name": "DescriptionStyleModel",
          "state": {
            "_model_module": "@jupyter-widgets/controls",
            "_model_module_version": "1.5.0",
            "_model_name": "DescriptionStyleModel",
            "_view_count": null,
            "_view_module": "@jupyter-widgets/base",
            "_view_module_version": "1.2.0",
            "_view_name": "StyleView",
            "description_width": ""
          }
        },
        "c67e5ad27ec14c11b8d46647efa1c367": {
          "model_module": "@jupyter-widgets/base",
          "model_module_version": "1.2.0",
          "model_name": "LayoutModel",
          "state": {
            "_model_module": "@jupyter-widgets/base",
            "_model_module_version": "1.2.0",
            "_model_name": "LayoutModel",
            "_view_count": null,
            "_view_module": "@jupyter-widgets/base",
            "_view_module_version": "1.2.0",
            "_view_name": "LayoutView",
            "align_content": null,
            "align_items": "center",
            "align_self": null,
            "border": null,
            "bottom": null,
            "display": "flex",
            "flex": null,
            "flex_flow": "column",
            "grid_area": null,
            "grid_auto_columns": null,
            "grid_auto_flow": null,
            "grid_auto_rows": null,
            "grid_column": null,
            "grid_gap": null,
            "grid_row": null,
            "grid_template_areas": null,
            "grid_template_columns": null,
            "grid_template_rows": null,
            "height": null,
            "justify_content": null,
            "justify_items": null,
            "left": null,
            "margin": null,
            "max_height": null,
            "max_width": null,
            "min_height": null,
            "min_width": null,
            "object_fit": null,
            "object_position": null,
            "order": null,
            "overflow": null,
            "overflow_x": null,
            "overflow_y": null,
            "padding": null,
            "right": null,
            "top": null,
            "visibility": null,
            "width": "50%"
          }
        },
        "c90cebb49aeb4a32a9f5cfd62fb76214": {
          "model_module": "@jupyter-widgets/controls",
          "model_module_version": "1.5.0",
          "model_name": "LabelModel",
          "state": {
            "_dom_classes": [],
            "_model_module": "@jupyter-widgets/controls",
            "_model_module_version": "1.5.0",
            "_model_name": "LabelModel",
            "_view_count": null,
            "_view_module": "@jupyter-widgets/controls",
            "_view_module_version": "1.5.0",
            "_view_name": "LabelView",
            "description": "",
            "description_tooltip": null,
            "layout": "IPY_MODEL_2251f087b35046ab982ce7aa4b948ac5",
            "placeholder": "​",
            "style": "IPY_MODEL_06a11059cfc84644a156c32eaaae69f7",
            "value": "Your token has been saved to /root/.cache/huggingface/token"
          }
        },
        "e90633d10f3744d696b992980e91aebb": {
          "model_module": "@jupyter-widgets/base",
          "model_module_version": "1.2.0",
          "model_name": "LayoutModel",
          "state": {
            "_model_module": "@jupyter-widgets/base",
            "_model_module_version": "1.2.0",
            "_model_name": "LayoutModel",
            "_view_count": null,
            "_view_module": "@jupyter-widgets/base",
            "_view_module_version": "1.2.0",
            "_view_name": "LayoutView",
            "align_content": null,
            "align_items": null,
            "align_self": null,
            "border": null,
            "bottom": null,
            "display": null,
            "flex": null,
            "flex_flow": null,
            "grid_area": null,
            "grid_auto_columns": null,
            "grid_auto_flow": null,
            "grid_auto_rows": null,
            "grid_column": null,
            "grid_gap": null,
            "grid_row": null,
            "grid_template_areas": null,
            "grid_template_columns": null,
            "grid_template_rows": null,
            "height": null,
            "justify_content": null,
            "justify_items": null,
            "left": null,
            "margin": null,
            "max_height": null,
            "max_width": null,
            "min_height": null,
            "min_width": null,
            "object_fit": null,
            "object_position": null,
            "order": null,
            "overflow": null,
            "overflow_x": null,
            "overflow_y": null,
            "padding": null,
            "right": null,
            "top": null,
            "visibility": null,
            "width": null
          }
        },
        "ef001fd40ab146f890943b039448e683": {
          "model_module": "@jupyter-widgets/controls",
          "model_module_version": "1.5.0",
          "model_name": "CheckboxModel",
          "state": {
            "_dom_classes": [],
            "_model_module": "@jupyter-widgets/controls",
            "_model_module_version": "1.5.0",
            "_model_name": "CheckboxModel",
            "_view_count": null,
            "_view_module": "@jupyter-widgets/controls",
            "_view_module_version": "1.5.0",
            "_view_name": "CheckboxView",
            "description": "Add token as git credential?",
            "description_tooltip": null,
            "disabled": false,
            "indent": true,
            "layout": "IPY_MODEL_187acd6b10d24524818b1747385d9679",
            "style": "IPY_MODEL_2b31277fc8094fb1bfefa976b9c4117f",
            "value": false
          }
        },
        "fc74254b8d4a4442b6a0cefcb125ede0": {
          "model_module": "@jupyter-widgets/controls",
          "model_module_version": "1.5.0",
          "model_name": "ButtonModel",
          "state": {
            "_dom_classes": [],
            "_model_module": "@jupyter-widgets/controls",
            "_model_module_version": "1.5.0",
            "_model_name": "ButtonModel",
            "_view_count": null,
            "_view_module": "@jupyter-widgets/controls",
            "_view_module_version": "1.5.0",
            "_view_name": "ButtonView",
            "button_style": "",
            "description": "Login",
            "disabled": false,
            "icon": "",
            "layout": "IPY_MODEL_5b5f7e29ef7249f68967ed0d3b015377",
            "style": "IPY_MODEL_7f6e7844c4eb446cbe8ffcb258c77e6c",
            "tooltip": ""
          }
        },
        "fdf8cf50c6f84d398d84724a7d9e73cb": {
          "model_module": "@jupyter-widgets/controls",
          "model_module_version": "1.5.0",
          "model_name": "DescriptionStyleModel",
          "state": {
            "_model_module": "@jupyter-widgets/controls",
            "_model_module_version": "1.5.0",
            "_model_name": "DescriptionStyleModel",
            "_view_count": null,
            "_view_module": "@jupyter-widgets/base",
            "_view_module_version": "1.2.0",
            "_view_name": "StyleView",
            "description_width": ""
          }
        }
      }
    }
  },
  "nbformat": 4,
  "nbformat_minor": 0
}
